{
 "cells": [
  {
   "cell_type": "code",
   "execution_count": 1,
   "metadata": {
    "collapsed": true
   },
   "outputs": [],
   "source": [
    "from scipy.stats import norm\n",
    "import pandas as pd"
   ]
  },
  {
   "cell_type": "code",
   "execution_count": 2,
   "metadata": {
    "collapsed": true
   },
   "outputs": [],
   "source": [
    "import matplotlib.pyplot as plt\n",
    "import statistics"
   ]
  },
  {
   "cell_type": "code",
   "execution_count": 3,
   "metadata": {
    "collapsed": true
   },
   "outputs": [],
   "source": [
    "## Confidence interval (90%)\n",
    "num_stdev = 3.29\n",
    "\n",
    "## value = norm(loc = (*expected value*), scale = (*estimated range*)/conf_interval)\n",
    "capital_cost = norm(loc = 300000/2, scale = (350000-250000)/num_stdev)\n",
    "operating_cost = norm(loc = 1, scale = (1.20-0.80)/num_stdev)\n",
    "production = norm(loc = 105000, scale = (120000-90000)/num_stdev)\n",
    "\n",
    "## set number of simulations\n",
    "num_simulations = 1000000"
   ]
  },
  {
   "cell_type": "code",
   "execution_count": 4,
   "metadata": {
    "collapsed": true
   },
   "outputs": [],
   "source": [
    "capital_cost_results = capital_cost.rvs(num_simulations)\n",
    "operating_cost_results = operating_cost.rvs(num_simulations)\n",
    "production_results = production.rvs(num_simulations)"
   ]
  },
  {
   "cell_type": "code",
   "execution_count": 5,
   "metadata": {},
   "outputs": [
    {
     "data": {
      "text/html": [
       "<div>\n",
       "<style scoped>\n",
       "    .dataframe tbody tr th:only-of-type {\n",
       "        vertical-align: middle;\n",
       "    }\n",
       "\n",
       "    .dataframe tbody tr th {\n",
       "        vertical-align: top;\n",
       "    }\n",
       "\n",
       "    .dataframe thead th {\n",
       "        text-align: right;\n",
       "    }\n",
       "</style>\n",
       "<table border=\"1\" class=\"dataframe\">\n",
       "  <thead>\n",
       "    <tr style=\"text-align: right;\">\n",
       "      <th></th>\n",
       "      <th>capital_cost</th>\n",
       "      <th>operating_cost</th>\n",
       "      <th>production</th>\n",
       "      <th>benefits</th>\n",
       "    </tr>\n",
       "  </thead>\n",
       "  <tbody>\n",
       "    <tr>\n",
       "      <th>0</th>\n",
       "      <td>100354.153991</td>\n",
       "      <td>0.956831</td>\n",
       "      <td>118295.676933</td>\n",
       "      <td>207017.434632</td>\n",
       "    </tr>\n",
       "    <tr>\n",
       "      <th>1</th>\n",
       "      <td>148145.855489</td>\n",
       "      <td>1.065330</td>\n",
       "      <td>96653.405316</td>\n",
       "      <td>169143.459304</td>\n",
       "    </tr>\n",
       "    <tr>\n",
       "      <th>2</th>\n",
       "      <td>168981.249402</td>\n",
       "      <td>1.119601</td>\n",
       "      <td>93555.933044</td>\n",
       "      <td>163722.882828</td>\n",
       "    </tr>\n",
       "    <tr>\n",
       "      <th>3</th>\n",
       "      <td>140985.034785</td>\n",
       "      <td>0.940982</td>\n",
       "      <td>113619.731350</td>\n",
       "      <td>198834.529863</td>\n",
       "    </tr>\n",
       "    <tr>\n",
       "      <th>4</th>\n",
       "      <td>150076.931316</td>\n",
       "      <td>1.018527</td>\n",
       "      <td>107847.444917</td>\n",
       "      <td>188733.028605</td>\n",
       "    </tr>\n",
       "  </tbody>\n",
       "</table>\n",
       "</div>"
      ],
      "text/plain": [
       "    capital_cost  operating_cost     production       benefits\n",
       "0  100354.153991        0.956831  118295.676933  207017.434632\n",
       "1  148145.855489        1.065330   96653.405316  169143.459304\n",
       "2  168981.249402        1.119601   93555.933044  163722.882828\n",
       "3  140985.034785        0.940982  113619.731350  198834.529863\n",
       "4  150076.931316        1.018527  107847.444917  188733.028605"
      ]
     },
     "execution_count": 5,
     "metadata": {},
     "output_type": "execute_result"
    }
   ],
   "source": [
    "data = pd.DataFrame({\n",
    "    \"capital_cost\": capital_cost_results,\n",
    "    \"operating_cost\": operating_cost_results,\n",
    "    \"production\": production_results,\n",
    "    \"benefits\": production_results * 1.75,\n",
    "})\n",
    "\n",
    "data.head()"
   ]
  },
  {
   "cell_type": "code",
   "execution_count": 6,
   "metadata": {},
   "outputs": [
    {
     "data": {
      "text/html": [
       "<div>\n",
       "<style scoped>\n",
       "    .dataframe tbody tr th:only-of-type {\n",
       "        vertical-align: middle;\n",
       "    }\n",
       "\n",
       "    .dataframe tbody tr th {\n",
       "        vertical-align: top;\n",
       "    }\n",
       "\n",
       "    .dataframe thead th {\n",
       "        text-align: right;\n",
       "    }\n",
       "</style>\n",
       "<table border=\"1\" class=\"dataframe\">\n",
       "  <thead>\n",
       "    <tr style=\"text-align: right;\">\n",
       "      <th></th>\n",
       "      <th>capital_cost</th>\n",
       "      <th>operating_cost</th>\n",
       "      <th>production</th>\n",
       "      <th>benefits</th>\n",
       "      <th>net_profit</th>\n",
       "    </tr>\n",
       "  </thead>\n",
       "  <tbody>\n",
       "    <tr>\n",
       "      <th>0</th>\n",
       "      <td>100354.153991</td>\n",
       "      <td>0.956831</td>\n",
       "      <td>118295.676933</td>\n",
       "      <td>207017.434632</td>\n",
       "      <td>87302.830359</td>\n",
       "    </tr>\n",
       "    <tr>\n",
       "      <th>1</th>\n",
       "      <td>148145.855489</td>\n",
       "      <td>1.065330</td>\n",
       "      <td>96653.405316</td>\n",
       "      <td>169143.459304</td>\n",
       "      <td>-15794.465140</td>\n",
       "    </tr>\n",
       "    <tr>\n",
       "      <th>2</th>\n",
       "      <td>168981.249402</td>\n",
       "      <td>1.119601</td>\n",
       "      <td>93555.933044</td>\n",
       "      <td>163722.882828</td>\n",
       "      <td>-51026.197739</td>\n",
       "    </tr>\n",
       "    <tr>\n",
       "      <th>3</th>\n",
       "      <td>140985.034785</td>\n",
       "      <td>0.940982</td>\n",
       "      <td>113619.731350</td>\n",
       "      <td>198834.529863</td>\n",
       "      <td>42855.840791</td>\n",
       "    </tr>\n",
       "    <tr>\n",
       "      <th>4</th>\n",
       "      <td>150076.931316</td>\n",
       "      <td>1.018527</td>\n",
       "      <td>107847.444917</td>\n",
       "      <td>188733.028605</td>\n",
       "      <td>7698.126594</td>\n",
       "    </tr>\n",
       "  </tbody>\n",
       "</table>\n",
       "</div>"
      ],
      "text/plain": [
       "    capital_cost  operating_cost     production       benefits    net_profit\n",
       "0  100354.153991        0.956831  118295.676933  207017.434632  87302.830359\n",
       "1  148145.855489        1.065330   96653.405316  169143.459304 -15794.465140\n",
       "2  168981.249402        1.119601   93555.933044  163722.882828 -51026.197739\n",
       "3  140985.034785        0.940982  113619.731350  198834.529863  42855.840791\n",
       "4  150076.931316        1.018527  107847.444917  188733.028605   7698.126594"
      ]
     },
     "execution_count": 6,
     "metadata": {},
     "output_type": "execute_result"
    }
   ],
   "source": [
    "data[\"net_profit\"] = (data.benefits*2 - data.capital_cost - data.operating_cost*data.production*2)\n",
    "data.head()"
   ]
  },
  {
   "cell_type": "code",
   "execution_count": 7,
   "metadata": {},
   "outputs": [
    {
     "data": {
      "image/png": "[encoded data removed]",
      "text/plain": [
       "<matplotlib.figure.Figure at 0x473013bd30>"
      ]
     },
     "metadata": {},
     "output_type": "display_data"
    }
   ],
   "source": [
    "##plot distribution of outcomes\n",
    "\n",
    "plt.hist(data.net_profit, bins=100)\n",
    "plt.xlabel(\"net profit ($)\")\n",
    "plt.show()"
   ]
  },
  {
   "cell_type": "code",
   "execution_count": 8,
   "metadata": {},
   "outputs": [
    {
     "name": "stdout",
     "output_type": "stream",
     "text": [
      "42024.48290380463\n"
     ]
    }
   ],
   "source": [
    "##Standard Deviation\n",
    "stdev = statistics.stdev(data.net_profit)\n",
    "print(stdev)"
   ]
  },
  {
   "cell_type": "code",
   "execution_count": 9,
   "metadata": {},
   "outputs": [
    {
     "name": "stdout",
     "output_type": "stream",
     "text": [
      "7525.136201964115\n"
     ]
    }
   ],
   "source": [
    "##Mean\n",
    "mean = statistics.mean(data.net_profit)\n",
    "print(mean)"
   ]
  },
  {
   "cell_type": "code",
   "execution_count": 10,
   "metadata": {},
   "outputs": [
    {
     "name": "stdout",
     "output_type": "stream",
     "text": [
      "The estimated probability of breaking even after 2 years: 0.5710568752534677\n"
     ]
    }
   ],
   "source": [
    "## Z-score of net zero\n",
    "z_score = (mean)/stdev\n",
    "\n",
    "##Probability of making money\n",
    "print(\"The estimated probability of breaking even after 2 years: \" + str(norm.cdf(z_score)))"
   ]
  },
  {
   "cell_type": "code",
   "execution_count": 15,
   "metadata": {},
   "outputs": [
    {
     "data": {
      "text/html": [
       "<div>\n",
       "<style scoped>\n",
       "    .dataframe tbody tr th:only-of-type {\n",
       "        vertical-align: middle;\n",
       "    }\n",
       "\n",
       "    .dataframe tbody tr th {\n",
       "        vertical-align: top;\n",
       "    }\n",
       "\n",
       "    .dataframe thead th {\n",
       "        text-align: right;\n",
       "    }\n",
       "</style>\n",
       "<table border=\"1\" class=\"dataframe\">\n",
       "  <thead>\n",
       "    <tr style=\"text-align: right;\">\n",
       "      <th></th>\n",
       "      <th>capital_cost</th>\n",
       "      <th>operating_cost</th>\n",
       "      <th>production</th>\n",
       "      <th>benefits</th>\n",
       "      <th>net_profit</th>\n",
       "    </tr>\n",
       "  </thead>\n",
       "  <tbody>\n",
       "    <tr>\n",
       "      <th>0</th>\n",
       "      <td>92489.705718</td>\n",
       "      <td>0.975779</td>\n",
       "      <td>111818.576559</td>\n",
       "      <td>195682.508979</td>\n",
       "      <td>80654.808012</td>\n",
       "    </tr>\n",
       "    <tr>\n",
       "      <th>1</th>\n",
       "      <td>90546.711182</td>\n",
       "      <td>0.843312</td>\n",
       "      <td>110584.447097</td>\n",
       "      <td>193522.782419</td>\n",
       "      <td>109984.494417</td>\n",
       "    </tr>\n",
       "    <tr>\n",
       "      <th>2</th>\n",
       "      <td>71397.081450</td>\n",
       "      <td>0.862385</td>\n",
       "      <td>112616.194006</td>\n",
       "      <td>197078.339510</td>\n",
       "      <td>128522.485877</td>\n",
       "    </tr>\n",
       "    <tr>\n",
       "      <th>3</th>\n",
       "      <td>73266.629935</td>\n",
       "      <td>1.078298</td>\n",
       "      <td>102383.929884</td>\n",
       "      <td>179171.877298</td>\n",
       "      <td>64276.292388</td>\n",
       "    </tr>\n",
       "    <tr>\n",
       "      <th>4</th>\n",
       "      <td>137088.143993</td>\n",
       "      <td>0.892379</td>\n",
       "      <td>112113.699121</td>\n",
       "      <td>196198.973462</td>\n",
       "      <td>55213.995017</td>\n",
       "    </tr>\n",
       "  </tbody>\n",
       "</table>\n",
       "</div>"
      ],
      "text/plain": [
       "    capital_cost  operating_cost     production       benefits     net_profit\n",
       "0   92489.705718        0.975779  111818.576559  195682.508979   80654.808012\n",
       "1   90546.711182        0.843312  110584.447097  193522.782419  109984.494417\n",
       "2   71397.081450        0.862385  112616.194006  197078.339510  128522.485877\n",
       "3   73266.629935        1.078298  102383.929884  179171.877298   64276.292388\n",
       "4  137088.143993        0.892379  112113.699121  196198.973462   55213.995017"
      ]
     },
     "execution_count": 15,
     "metadata": {},
     "output_type": "execute_result"
    }
   ],
   "source": [
    "data.head()"
   ]
  },
  {
   "cell_type": "code",
   "execution_count": null,
   "metadata": {
    "collapsed": true
   },
   "outputs": [],
   "source": []
  }
 ],
 "metadata": {
  "kernelspec": {
   "display_name": "Python 3",
   "language": "python",
   "name": "python3"
  },
  "language_info": {
   "codemirror_mode": {
    "name": "ipython",
    "version": 3
   },
   "file_extension": ".py",
   "mimetype": "text/x-python",
   "name": "python",
   "nbconvert_exporter": "python",
   "pygments_lexer": "ipython3",
   "version": "3.6.3"
  }
 },
 "nbformat": 4,
 "nbformat_minor": 2
}
